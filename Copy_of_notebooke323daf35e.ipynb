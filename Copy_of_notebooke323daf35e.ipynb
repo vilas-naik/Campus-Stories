{
  "metadata": {
    "kernelspec": {
      "display_name": "Python 3",
      "language": "python",
      "name": "python3"
    },
    "language_info": {
      "codemirror_mode": {
        "name": "ipython",
        "version": 3
      },
      "file_extension": ".py",
      "mimetype": "text/x-python",
      "name": "python",
      "nbconvert_exporter": "python",
      "pygments_lexer": "ipython3",
      "version": "3.10.12"
    },
    "kaggle": {
      "accelerator": "none",
      "dataSources": [
        {
          "datasetId": 1595713,
          "sourceId": 2624724,
          "sourceType": "datasetVersion"
        }
      ],
      "dockerImageVersionId": 30918,
      "isGpuEnabled": false,
      "isInternetEnabled": true,
      "language": "python",
      "sourceType": "notebook"
    },
    "papermill": {
      "default_parameters": {},
      "duration": 109.472517,
      "end_time": "2025-03-27T08:29:48.813629",
      "environment_variables": {},
      "exception": null,
      "input_path": "__notebook__.ipynb",
      "output_path": "__notebook__.ipynb",
      "parameters": {},
      "start_time": "2025-03-27T08:27:59.341112",
      "version": "2.6.0"
    },
    "colab": {
      "provenance": [],
      "include_colab_link": true
    }
  },
  "nbformat_minor": 5,
  "nbformat": 4,
  "cells": [
    {
      "cell_type": "markdown",
      "metadata": {
        "id": "view-in-github",
        "colab_type": "text"
      },
      "source": [
        "<a href=\"https://colab.research.google.com/github/vilas-naik/Campus-Stories/blob/main/Copy_of_notebooke323daf35e.ipynb\" target=\"_parent\"><img src=\"https://colab.research.google.com/assets/colab-badge.svg\" alt=\"Open In Colab\"/></a>"
      ]
    },
    {
      "source": [
        "# IMPORTANT: RUN THIS CELL IN ORDER TO IMPORT YOUR KAGGLE DATA SOURCES,\n",
        "# THEN FEEL FREE TO DELETE THIS CELL.\n",
        "# NOTE: THIS NOTEBOOK ENVIRONMENT DIFFERS FROM KAGGLE'S PYTHON\n",
        "# ENVIRONMENT SO THERE MAY BE MISSING LIBRARIES USED BY YOUR\n",
        "# NOTEBOOK.\n",
        "import kagglehub\n",
        "sugataghosh_google_word2vec_path = kagglehub.dataset_download('sugataghosh/google-word2vec')\n",
        "\n",
        "print('Data source import complete.')"
      ],
      "metadata": {
        "id": "VYGs85lXEQIg",
        "outputId": "41fe8007-6e8e-4be1-dd95-b4f311353bda",
        "colab": {
          "base_uri": "https://localhost:8080/"
        }
      },
      "cell_type": "code",
      "outputs": [
        {
          "output_type": "stream",
          "name": "stdout",
          "text": [
            "Downloading from https://www.kaggle.com/api/v1/datasets/download/sugataghosh/google-word2vec?dataset_version_number=1...\n"
          ]
        },
        {
          "output_type": "stream",
          "name": "stderr",
          "text": [
            "100%|██████████| 1.64G/1.64G [00:56<00:00, 31.4MB/s]"
          ]
        },
        {
          "output_type": "stream",
          "name": "stdout",
          "text": [
            "Extracting files...\n"
          ]
        },
        {
          "output_type": "stream",
          "name": "stderr",
          "text": [
            "\n"
          ]
        },
        {
          "output_type": "stream",
          "name": "stdout",
          "text": [
            "Data source import complete.\n"
          ]
        }
      ],
      "execution_count": null,
      "id": "VYGs85lXEQIg"
    },
    {
      "id": "e68316dd",
      "cell_type": "code",
      "source": [
        "# This Python 3 environment comes with many helpful analytics libraries installed\n",
        "# It is defined by the kaggle/python Docker image: https://github.com/kaggle/docker-python\n",
        "# For example, here's several helpful packages to load\n",
        "\n",
        "import numpy as np # linear algebra\n",
        "import pandas as pd # data processing, CSV file I/O (e.g. pd.read_csv)\n",
        "\n",
        "# Input data files are available in the read-only \"../input/\" directory\n",
        "# For example, running this (by clicking run or pressing Shift+Enter) will list all files under the input directory\n",
        "\n",
        "import os\n",
        "for dirname, _, filenames in os.walk('/kaggle/input'):\n",
        "    for filename in filenames:\n",
        "        print(os.path.join(dirname, filename))\n",
        "\n",
        "# You can write up to 20GB to the current directory (/kaggle/working/) that gets preserved as output when you create a version using \"Save & Run All\"\n",
        "# You can also write temporary files to /kaggle/temp/, but they won't be saved outside of the current session"
      ],
      "metadata": {
        "_cell_guid": "b1076dfc-b9ad-4769-8c92-a6c4dae69d19",
        "_uuid": "8f2839f25d086af736a60e9eeb907d3b93b6e0e5",
        "execution": {
          "iopub.execute_input": "2025-03-27T08:28:02.6301Z",
          "iopub.status.busy": "2025-03-27T08:28:02.629664Z",
          "iopub.status.idle": "2025-03-27T08:28:03.76264Z",
          "shell.execute_reply": "2025-03-27T08:28:03.761331Z"
        },
        "papermill": {
          "duration": 1.139744,
          "end_time": "2025-03-27T08:28:03.765088",
          "exception": false,
          "start_time": "2025-03-27T08:28:02.625344",
          "status": "completed"
        },
        "tags": [],
        "id": "e68316dd"
      },
      "outputs": [],
      "execution_count": null
    },
    {
      "id": "fe48e08b",
      "cell_type": "code",
      "source": [
        "!pip install gensim scipy nltk"
      ],
      "metadata": {
        "execution": {
          "iopub.execute_input": "2025-03-27T08:28:03.772608Z",
          "iopub.status.busy": "2025-03-27T08:28:03.771976Z",
          "iopub.status.idle": "2025-03-27T08:28:10.289994Z",
          "shell.execute_reply": "2025-03-27T08:28:10.288425Z"
        },
        "papermill": {
          "duration": 6.524614,
          "end_time": "2025-03-27T08:28:10.292843",
          "exception": false,
          "start_time": "2025-03-27T08:28:03.768229",
          "status": "completed"
        },
        "tags": [],
        "id": "fe48e08b",
        "outputId": "22ddb064-f791-4457-a129-c364e620da6f",
        "colab": {
          "base_uri": "https://localhost:8080/"
        }
      },
      "outputs": [
        {
          "output_type": "stream",
          "name": "stdout",
          "text": [
            "Collecting gensim\n",
            "  Downloading gensim-4.3.3-cp311-cp311-manylinux_2_17_x86_64.manylinux2014_x86_64.whl.metadata (8.1 kB)\n",
            "Requirement already satisfied: scipy in /usr/local/lib/python3.11/dist-packages (1.14.1)\n",
            "Requirement already satisfied: nltk in /usr/local/lib/python3.11/dist-packages (3.9.1)\n",
            "Collecting numpy<2.0,>=1.18.5 (from gensim)\n",
            "  Downloading numpy-1.26.4-cp311-cp311-manylinux_2_17_x86_64.manylinux2014_x86_64.whl.metadata (61 kB)\n",
            "\u001b[2K     \u001b[90m━━━━━━━━━━━━━━━━━━━━━━━━━━━━━━━━━━━━━━━━\u001b[0m \u001b[32m61.0/61.0 kB\u001b[0m \u001b[31m2.6 MB/s\u001b[0m eta \u001b[36m0:00:00\u001b[0m\n",
            "\u001b[?25hCollecting scipy\n",
            "  Downloading scipy-1.13.1-cp311-cp311-manylinux_2_17_x86_64.manylinux2014_x86_64.whl.metadata (60 kB)\n",
            "\u001b[2K     \u001b[90m━━━━━━━━━━━━━━━━━━━━━━━━━━━━━━━━━━━━━━━━\u001b[0m \u001b[32m60.6/60.6 kB\u001b[0m \u001b[31m4.2 MB/s\u001b[0m eta \u001b[36m0:00:00\u001b[0m\n",
            "\u001b[?25hRequirement already satisfied: smart-open>=1.8.1 in /usr/local/lib/python3.11/dist-packages (from gensim) (7.1.0)\n",
            "Requirement already satisfied: click in /usr/local/lib/python3.11/dist-packages (from nltk) (8.1.8)\n",
            "Requirement already satisfied: joblib in /usr/local/lib/python3.11/dist-packages (from nltk) (1.4.2)\n",
            "Requirement already satisfied: regex>=2021.8.3 in /usr/local/lib/python3.11/dist-packages (from nltk) (2024.11.6)\n",
            "Requirement already satisfied: tqdm in /usr/local/lib/python3.11/dist-packages (from nltk) (4.67.1)\n",
            "Requirement already satisfied: wrapt in /usr/local/lib/python3.11/dist-packages (from smart-open>=1.8.1->gensim) (1.17.2)\n",
            "Downloading gensim-4.3.3-cp311-cp311-manylinux_2_17_x86_64.manylinux2014_x86_64.whl (26.7 MB)\n",
            "\u001b[2K   \u001b[90m━━━━━━━━━━━━━━━━━━━━━━━━━━━━━━━━━━━━━━━━\u001b[0m \u001b[32m26.7/26.7 MB\u001b[0m \u001b[31m55.2 MB/s\u001b[0m eta \u001b[36m0:00:00\u001b[0m\n",
            "\u001b[?25hDownloading scipy-1.13.1-cp311-cp311-manylinux_2_17_x86_64.manylinux2014_x86_64.whl (38.6 MB)\n",
            "\u001b[2K   \u001b[90m━━━━━━━━━━━━━━━━━━━━━━━━━━━━━━━━━━━━━━━━\u001b[0m \u001b[32m38.6/38.6 MB\u001b[0m \u001b[31m14.4 MB/s\u001b[0m eta \u001b[36m0:00:00\u001b[0m\n",
            "\u001b[?25hDownloading numpy-1.26.4-cp311-cp311-manylinux_2_17_x86_64.manylinux2014_x86_64.whl (18.3 MB)\n",
            "\u001b[2K   \u001b[90m━━━━━━━━━━━━━━━━━━━━━━━━━━━━━━━━━━━━━━━━\u001b[0m \u001b[32m18.3/18.3 MB\u001b[0m \u001b[31m73.7 MB/s\u001b[0m eta \u001b[36m0:00:00\u001b[0m\n",
            "\u001b[?25hInstalling collected packages: numpy, scipy, gensim\n",
            "  Attempting uninstall: numpy\n",
            "    Found existing installation: numpy 2.0.2\n",
            "    Uninstalling numpy-2.0.2:\n",
            "      Successfully uninstalled numpy-2.0.2\n",
            "  Attempting uninstall: scipy\n",
            "    Found existing installation: scipy 1.14.1\n",
            "    Uninstalling scipy-1.14.1:\n",
            "      Successfully uninstalled scipy-1.14.1\n",
            "\u001b[31mERROR: pip's dependency resolver does not currently take into account all the packages that are installed. This behaviour is the source of the following dependency conflicts.\n",
            "thinc 8.3.6 requires numpy<3.0.0,>=2.0.0, but you have numpy 1.26.4 which is incompatible.\u001b[0m\u001b[31m\n",
            "\u001b[0mSuccessfully installed gensim-4.3.3 numpy-1.26.4 scipy-1.13.1\n"
          ]
        }
      ],
      "execution_count": null
    },
    {
      "id": "377b5059",
      "cell_type": "code",
      "source": [
        "from gensim.models import KeyedVectors\n",
        "import numpy as np\n",
        "import os\n",
        "import nltk\n",
        "from nltk.corpus import wordnet\n",
        "\n",
        "from nltk.tokenize import sent_tokenize\n",
        "nltk.download('wordnet')\n",
        "nltk.download('punkt')"
      ],
      "metadata": {
        "execution": {
          "iopub.execute_input": "2025-03-27T08:28:10.301286Z",
          "iopub.status.busy": "2025-03-27T08:28:10.300772Z",
          "iopub.status.idle": "2025-03-27T08:28:33.330508Z",
          "shell.execute_reply": "2025-03-27T08:28:33.328825Z"
        },
        "papermill": {
          "duration": 23.036664,
          "end_time": "2025-03-27T08:28:33.332908",
          "exception": false,
          "start_time": "2025-03-27T08:28:10.296244",
          "status": "completed"
        },
        "tags": [],
        "id": "377b5059",
        "outputId": "f59ee56e-86af-4d34-f08a-d96486c23c92"
      },
      "outputs": [
        {
          "name": "stdout",
          "output_type": "stream",
          "text": [
            "[nltk_data] Downloading package wordnet to /usr/share/nltk_data...\n",
            "[nltk_data]   Package wordnet is already up-to-date!\n",
            "[nltk_data] Downloading package punkt to /usr/share/nltk_data...\n",
            "[nltk_data]   Package punkt is already up-to-date!\n"
          ]
        },
        {
          "data": {
            "text/plain": [
              "True"
            ]
          },
          "execution_count": 3,
          "metadata": {},
          "output_type": "execute_result"
        }
      ],
      "execution_count": null
    },
    {
      "id": "92e85fff",
      "cell_type": "code",
      "source": [
        "def load_word_vectors():\n",
        "\n",
        "    model_path =\"/kaggle/input/google-word2vec/GoogleNews-vectors-negative300.bin\"\n",
        "    model= KeyedVectors.load_word2vec_format(model_path, binary = True)\n",
        "    return model\n",
        "model=load_word_vectors()"
      ],
      "metadata": {
        "execution": {
          "iopub.execute_input": "2025-03-27T08:28:33.342129Z",
          "iopub.status.busy": "2025-03-27T08:28:33.341434Z",
          "iopub.status.idle": "2025-03-27T08:29:44.653299Z",
          "shell.execute_reply": "2025-03-27T08:29:44.65199Z"
        },
        "papermill": {
          "duration": 71.318989,
          "end_time": "2025-03-27T08:29:44.655377",
          "exception": false,
          "start_time": "2025-03-27T08:28:33.336388",
          "status": "completed"
        },
        "tags": [],
        "id": "92e85fff"
      },
      "outputs": [],
      "execution_count": null
    },
    {
      "id": "4bbd0db3",
      "cell_type": "code",
      "source": [
        "def get_similar_words(word, model, top_n=5):\n",
        "    try:\n",
        "        similar_words = model.most_similar(word, topn=top_n)\n",
        "        return [w[0] for w in similar_words]\n",
        "    except KeyError:\n",
        "        return []\n",
        "def get_synonyms(word):\n",
        "    try:\n",
        "        synonyms = set()\n",
        "        for syn in wordnet.synsets(word):\n",
        "            for lemma in syn.lemmas():\n",
        "                synonyms.add(lemma.name())\n",
        "        return list(synonyms)[:5]\n",
        "    except LookupError:\n",
        "        return[]\n",
        "def generate_story(seed_word, model):\n",
        "    similar_words = get_similar_words(seed_word, model, top_n=3)\n",
        "    synonyms = get_synonyms(seed_word)\n",
        "    word_choices = list(set(similar_words + synonyms))\n",
        "    while len(word_choices) < 5:\n",
        "        word_choices.append(seed_word)\n",
        "\n",
        "    story_template = (\n",
        "        f\"Once upon a time, in a systical land, there was an ancient (seed_word) \"\n",
        "        f\"Legends spoke of its power hidden within the {word_choices[0]}.\"\n",
        "        f\"One evening, under a {word_choices[1]}sky, a young explorer naned Alex set out on journey.\"\n",
        "        f\"Guided by an old {word_choices[2]}, they discovered a secret passage leading to a hidden realm.\"\n",
        "        f\"Inside, they found an inscription written in {word_choices[3]}and uncovered the secret of {word_choices[4]}.\"\n",
        "        f\"This adventure would change their fate forever, unlocking mysteries long forgotten.\"\n",
        "    )\n",
        "\n",
        "\n",
        "    return \"\".join(sent_tokenize(story_template))"
      ],
      "metadata": {
        "execution": {
          "iopub.execute_input": "2025-03-27T08:29:44.663433Z",
          "iopub.status.busy": "2025-03-27T08:29:44.663054Z",
          "iopub.status.idle": "2025-03-27T08:29:44.717043Z",
          "shell.execute_reply": "2025-03-27T08:29:44.715613Z"
        },
        "papermill": {
          "duration": 0.06054,
          "end_time": "2025-03-27T08:29:44.719362",
          "exception": false,
          "start_time": "2025-03-27T08:29:44.658822",
          "status": "completed"
        },
        "tags": [],
        "id": "4bbd0db3"
      },
      "outputs": [],
      "execution_count": null
    },
    {
      "id": "bfa36ce8",
      "cell_type": "code",
      "source": [
        "seed_word = \"adventure\"\n",
        "generated_story = generate_story(seed_word,model)\n",
        "print(\"Generated Story:\")\n",
        "print(generated_story)"
      ],
      "metadata": {
        "execution": {
          "iopub.execute_input": "2025-03-27T08:29:44.727309Z",
          "iopub.status.busy": "2025-03-27T08:29:44.726877Z",
          "iopub.status.idle": "2025-03-27T08:29:46.465603Z",
          "shell.execute_reply": "2025-03-27T08:29:46.464145Z"
        },
        "papermill": {
          "duration": 1.744984,
          "end_time": "2025-03-27T08:29:46.46772",
          "exception": false,
          "start_time": "2025-03-27T08:29:44.722736",
          "status": "completed"
        },
        "tags": [],
        "id": "bfa36ce8",
        "outputId": "78281889-fad9-4723-d068-0138020a7633"
      },
      "outputs": [
        {
          "name": "stdout",
          "output_type": "stream",
          "text": [
            "Generated Story:\n",
            "Once upon a time, in a systical land, there was an ancient (seed_word) Legends spoke of its power hidden within the adventures.One evening, under a adventuringsky, a young explorer naned Alex set out on journey.Guided by an old Adventure, they discovered a secret passage leading to a hidden realm.Inside, they found an inscription written in adventureand uncovered the secret of adventure.This adventure would change their fate forever, unlocking mysteries long forgotten.\n"
          ]
        }
      ],
      "execution_count": null
    }
  ]
}